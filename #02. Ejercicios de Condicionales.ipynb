{
 "cells": [
  {
   "cell_type": "markdown",
   "metadata": {},
   "source": [
    "Ejercicios: https://aprendeconalf.es/es/docencia/python/ejercicios/condicionales/\n",
    "\n",
    "Documentación: https://aprendeconalf.es/es/docencia/python/manual/condicionales/"
   ]
  },
  {
   "cell_type": "markdown",
   "metadata": {},
   "source": [
    "### Ejercicio 1\n",
    "Escribir un programa que pregunte al usuario su edad y muestre por pantalla si es mayor de edad o no"
   ]
  },
  {
   "cell_type": "code",
   "execution_count": null,
   "metadata": {},
   "outputs": [],
   "source": [
    "age = int(input('Introduzca su edad: '))\n",
    "\n",
    "if(age<18):\n",
    "    print('Usted es menor de edad.')\n",
    "else:\n",
    "    print('Usted es mayor de edad.')"
   ]
  },
  {
   "cell_type": "markdown",
   "metadata": {},
   "source": [
    "### Ejercicio 2\n",
    "Escribir un programa que almacene la cadena de caracteres contraseña en una variable, pregunte al usuario por la contraseña e imprima por pantalla si la contraseña introducida por el usuario coincide con la guardada en la variable sin tener en cuenta mayúsculas y minúsculas."
   ]
  },
  {
   "cell_type": "code",
   "execution_count": null,
   "metadata": {},
   "outputs": [],
   "source": [
    "password = input('Introduzca contraseña: ')\n",
    "\n",
    "confirm = input('Confirme su contraseña: ')\n",
    "\n",
    "if (password.lower()==confirm.lower()): #usamos el método .lower() para poner todo en minúsucula\n",
    "    print('Contraseña correcta')\n",
    "\n",
    "else:\n",
    "    print('contraseña incorrecta')"
   ]
  },
  {
   "cell_type": "markdown",
   "metadata": {},
   "source": [
    "### Ejercicio 3\n",
    "Escribir un programa que pida al usuario dos números y muestre por pantalla su división. Si el divisor es cero el programa debe mostrar un error."
   ]
  },
  {
   "cell_type": "code",
   "execution_count": null,
   "metadata": {},
   "outputs": [],
   "source": [
    "dividendo = int(input('Introduzca el dividendo: '))\n",
    "divisor = int(input('Introduzca el divisor: '))\n",
    "\n",
    "if(divisor == 0):\n",
    "    print('ERROR')\n",
    "else:\n",
    "    resultado = dividendo / divisor\n",
    "    print(resultado)"
   ]
  },
  {
   "cell_type": "markdown",
   "metadata": {},
   "source": [
    "### Ejercicio 4\n",
    "Escribir un programa que pida al usuario un número entero y muestre por pantalla si es par o impar."
   ]
  },
  {
   "cell_type": "code",
   "execution_count": null,
   "metadata": {},
   "outputs": [],
   "source": [
    "num = int(input('introduzca un número: '))\n",
    "\n",
    "if(num%2 == 0):\n",
    "    print(num, 'es par')\n",
    "else:\n",
    "    print(num, ' no es par')"
   ]
  },
  {
   "cell_type": "markdown",
   "metadata": {},
   "source": [
    "### Ejercicio 5\n",
    "Para tributar un determinado impuesto se debe ser mayor de 16 años y tener unos ingresos iguales o superiores a 1000 € mensuales. Escribir un programa que pregunte al usuario su edad y sus ingresos mensuales y muestre por pantalla si el usuario tiene que tributar o no."
   ]
  },
  {
   "cell_type": "code",
   "execution_count": null,
   "metadata": {},
   "outputs": [],
   "source": [
    "age = int(input('Introduzca su edad: '))\n",
    "income = int(input('Introduzca sus ingresos: '))\n",
    "\n",
    "if (age<16 or income<1000):\n",
    "    print('está exento de pagar impuestos')\n",
    "else: \n",
    "    print('ha de pagar impuestos')"
   ]
  },
  {
   "cell_type": "markdown",
   "metadata": {},
   "source": [
    "### Ejercicio 6\n",
    "Los alumnos de un curso se han dividido en dos grupos A y B de acuerdo al sexo y el nombre. El grupo A esta formado por las mujeres con un nombre anterior a la M y los hombres con un nombre posterior a la N y el grupo B por el resto. Escribir un programa que pregunte al usuario su nombre y sexo, y muestre por pantalla el grupo que le corresponde."
   ]
  },
  {
   "cell_type": "code",
   "execution_count": null,
   "metadata": {},
   "outputs": [],
   "source": [
    "sex = input('Introduzca su sexo: [H]ombre ó [M]ujer: ')\n",
    "name = input('Introduzca su nombre: ')\n",
    "\n",
    "if((sex[0].lower() == ('m') and name[0].lower()<'m') or\n",
    "   (sex[0].lower() == ('h') and name[0].lower()>'n')):\n",
    "    print('grupo A')\n",
    "\n",
    "else:\n",
    "    print('grupo B')"
   ]
  },
  {
   "cell_type": "markdown",
   "metadata": {},
   "source": [
    "### Ejercicio 7\n",
    "Los tramos impositivos para la declaración de la renta en un determinado país son los siguientes:\n",
    "\n",
    "Renta y Tipo impositivo\n",
    "    - Menos de 10000€:\t       5%\n",
    "    - Entre 10000€ y 20000€:\t 15%\n",
    "    - Entre 200000€ y 35000€:\t20%\n",
    "    - Entre 350000€ y 60000€:\t30%\n",
    "    - Más de 60000€:\t         45%\n",
    "\n",
    "Escribir un programa que pregunte al usuario su renta anual y muestre por pantalla el tipo impositivo que le corresponde."
   ]
  },
  {
   "cell_type": "code",
   "execution_count": null,
   "metadata": {},
   "outputs": [],
   "source": [
    "renta = int(input('Introduzca su renta anual: '))\n",
    "\n",
    "if(renta<=10000):\n",
    "    tipo = '5%'\n",
    "elif(renta>10000 and renta<=20000):\n",
    "    tipo = '15%'\n",
    "elif(renta>20000 and renta<=35000):\n",
    "    tipo = '20%'\n",
    "elif(renta>35000 and renta<=60000):\n",
    "    tipo = '30%'\n",
    "elif(renta>60000):\n",
    "    tipo = '45%'\n",
    "    \n",
    "print('Su tipo impositivo es del', tipo)"
   ]
  },
  {
   "cell_type": "markdown",
   "metadata": {},
   "source": [
    "### Ejercicio 8\n",
    "En una determinada empresa, sus empleados son evaluados al final de cada año. Los puntos que pueden obtener en la evaluación comienzan en 0.0 y pueden ir aumentando, traduciéndose en mejores beneficios. Los puntos que pueden conseguir los empleados pueden ser 0.0, 0.4, 0.6 o más, pero no valores intermedios entre las cifras mencionadas. A continuación se muestra una tabla con los niveles correspondientes a cada puntuación. La cantidad de dinero conseguida en cada nivel es de 2.400€ multiplicada por la puntuación del nivel.\n",
    "\n",
    "    Nivel\t      Puntuación\n",
    "    Inaceptable    0.0\n",
    "    Aceptable\t  0.4\n",
    "    Meritorio\t  0.6 o más\n",
    "    \n",
    "Escribir un programa que lea la puntuación del usuario e indique su nivel de rendimiento, así como la cantidad de dinero que recibirá el usuario."
   ]
  },
  {
   "cell_type": "code",
   "execution_count": null,
   "metadata": {},
   "outputs": [],
   "source": [
    "point = float(input('Introduzca la puntuación de '))\n",
    "\n",
    "if(point == 0.0):\n",
    "    print('Nivel: Inaceptable \\n 0€ de bonificación')\n",
    "\n",
    "elif(point == 0.4):\n",
    "    print('Nivel: Aceptable \\n', 2400*0.4 ,'€ de bonificación')\n",
    "    \n",
    "elif(point >= 0.6):\n",
    "    print('Nivel: Meritorio \\n', 2400*point ,'€ de bonificación')\n",
    "\n",
    "else:\n",
    "    print('Error, puntuación no válida')"
   ]
  },
  {
   "cell_type": "markdown",
   "metadata": {},
   "source": [
    "### Ejercicio 9\n",
    "Escribir un programa para una empresa que tiene salas de juegos para todas las edades y quiere calcular de forma automática el precio que debe cobrar a sus clientes por entrar. El programa debe preguntar al usuario la edad del cliente y mostrar el precio de la entrada. Si el cliente es menor de 4 años puede entrar gratis, si tiene entre 4 y 18 años debe pagar 5€ y si es mayor de 18 años, 10€."
   ]
  },
  {
   "cell_type": "code",
   "execution_count": null,
   "metadata": {},
   "outputs": [],
   "source": [
    "age = int(input('Bienbenido. Introduzca su edad:'))\n",
    "\n",
    "if (age<4):\n",
    "    print('Su entrada es gratis')\n",
    "    \n",
    "elif(age>=4 and age<=18):\n",
    "    print('La entrada son 5€')\n",
    "\n",
    "else:\n",
    "    print('La entrada son 10€')"
   ]
  },
  {
   "cell_type": "markdown",
   "metadata": {},
   "source": [
    "### Ejercicio 10\n",
    "La pizzería Bella Napoli ofrece pizzas vegetarianas y no vegetarianas a sus clientes. Los ingredientes para cada tipo de pizza aparecen a continuación.\n",
    "\n",
    "Ingredientes vegetarianos: Pimiento y tofu.\n",
    "Ingredientes no vegetarianos: Peperoni, Jamón y Salmón.\n",
    "\n",
    "Escribir un programa que pregunte al usuario si quiere una pizza vegetariana o no, y en función de su respuesta le muestre un menú con los ingredientes disponibles para que elija. Solo se puede eligir un ingrediente además de la mozzarella y el tomate que están en todas la pizzas. Al final se debe mostrar por pantalla si la pizza elegida es vegetariana o no y todos los ingredientes que lleva."
   ]
  },
  {
   "cell_type": "code",
   "execution_count": null,
   "metadata": {},
   "outputs": [],
   "source": [
    "tipe = input('Eliga entre pizza vegetariana o no vegetariana: ').lower()\n",
    "\n",
    "if (tipe == 'vegetariana'):\n",
    "    ingredient = input('Eliga uno entre los ingredientes, pimiento o tofu: ').lower()\n",
    "    print('Ha elegido pizza vegetariana. Ingredientes: tomate, mozzarella y', ingredient)\n",
    "    \n",
    "elif(tipe == 'no vegetariana'):\n",
    "    ingredient = input('Eliga uno entre los ingredientes, peperoni, jamón y salmón: ').lower()\n",
    "    print('Ha elegido pizza NO vegetariana. Ingredientes: tomate, mozzarella y', ingredient)\n",
    "    \n",
    "else:\n",
    "    print('El tipo elegido no es correcto.')"
   ]
  }
 ],
 "metadata": {
  "kernelspec": {
   "display_name": "Python 3",
   "language": "python",
   "name": "python3"
  },
  "language_info": {
   "codemirror_mode": {
    "name": "ipython",
    "version": 3
   },
   "file_extension": ".py",
   "mimetype": "text/x-python",
   "name": "python",
   "nbconvert_exporter": "python",
   "pygments_lexer": "ipython3",
   "version": "3.8.3"
  }
 },
 "nbformat": 4,
 "nbformat_minor": 4
}
