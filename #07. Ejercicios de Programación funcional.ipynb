{
 "cells": [
  {
   "cell_type": "markdown",
   "metadata": {},
   "source": [
    "Ejercicios: https://aprendeconalf.es/docencia/python/ejercicios/programacion-funcional/\n",
    "\n",
    "Documentación: https://aprendeconalf.es/docencia/python/manual/programacion-funcional/"
   ]
  },
  {
   "cell_type": "markdown",
   "metadata": {},
   "source": [
    "### Ejercicio 1\n",
    "Escribir una función que aplique un descuento a un precio y otra que aplique el IVA a un precio. Escribir una tercera función que reciba un diccionario con los precios y porcentajes de una cesta de la compra, y una de las funciones anteriores, y utilice la función pasada para aplicar los descuentos o el IVA a los productos de la cesta y devolver el precio final de la cesta."
   ]
  },
  {
   "cell_type": "code",
   "execution_count": 1,
   "metadata": {},
   "outputs": [
    {
     "name": "stdout",
     "output_type": "stream",
     "text": [
      "precio= 5.5 € y descuento del  10 %\n",
      "hace un total de =  4.95 €\n",
      "precio final =  4.95 € \n",
      "\n",
      "precio= 10 € y descuento del  50 %\n",
      "hace un total de =  5.0 €\n",
      "precio final =  9.95 € \n",
      "\n",
      "precio= 40 € y descuento del  0 %\n",
      "hace un total de =  40.0 €\n",
      "precio final =  49.95 € \n",
      "\n",
      "49.95\n",
      "precio= 5.5 € y descuento del  10 %\n",
      "hace un total de =  6.05 €\n",
      "precio final =  6.05 € \n",
      "\n",
      "precio= 10 € y descuento del  50 %\n",
      "hace un total de =  15.0 €\n",
      "precio final =  21.05 € \n",
      "\n",
      "precio= 40 € y descuento del  0 %\n",
      "hace un total de =  40.0 €\n",
      "precio final =  61.05 € \n",
      "\n",
      "61.05\n"
     ]
    }
   ],
   "source": [
    "def descuento(precio, descuento):\n",
    "    '''Aplica un determinado descuento a un precio. \n",
    "    Precio y descuento son parámetros necesarios.'''\n",
    "    return precio - precio*descuento/100\n",
    "    \n",
    "def iva(precio, iva=21):\n",
    "    '''Aplica un impuesto a un precio dado por parámetro.\n",
    "    Si no se aporta el argumento del impuesto aplica automáticamente el 21%'''\n",
    "    return precio + precio*iva/100\n",
    "\n",
    "def aplicar_porcerntaje(diccionario, funcion):\n",
    "    '''aplicar_procentaje recibe como parámetros un diccionario con precios y porcentajes\n",
    "    y una función como segundo argumento'''\n",
    "    precio_final = 0\n",
    "    \n",
    "    # divide el diccionario en parjeas\n",
    "    pairs = diccionario.items()\n",
    "   \n",
    "    # recorre las parejas\n",
    "    for pair in pairs:\n",
    "        print('precio=', pair[0], '€ y descuento del ', pair[1],'%')\n",
    "        \n",
    "        # le proporciona a las funciones de arriba cada elemento de la pareja como argumento\n",
    "        total = funcion(pair[0],pair[1])\n",
    "        print('hace un total de = ',  total, '€')\n",
    "        precio_final += total\n",
    "        print('precio final = ',precio_final, '€ \\n')\n",
    "    \n",
    "    return precio_final\n",
    "\n",
    "\n",
    "cesta = {5.50:10, 10:50, 40:0} # precio:descuento\n",
    "\n",
    "print(aplicar_porcerntaje(cesta, descuento))\n",
    "\n",
    "print(aplicar_porcerntaje(cesta, iva))"
   ]
  },
  {
   "cell_type": "markdown",
   "metadata": {},
   "source": [
    "### Ejercicio 2\n",
    "Escribir una función que simule una calculadora científica que permita calcular el seno, coseno, tangente, exponencial y logaritmo neperiano. La función preguntará al usuario el valor y la función a aplicar, y mostrará por pantalla una tabla con los enteros de 1 al valor introducido y el resultado de aplicar la función a esos enteros."
   ]
  },
  {
   "cell_type": "code",
   "execution_count": 2,
   "metadata": {},
   "outputs": [
    {
     "name": "stdout",
     "output_type": "stream",
     "text": [
      "valores enteros hasta 10: [1, 2, 3, 4, 5, 6, 7, 8, 9, 10]\n",
      "función aplicada <function coseno at 0x0000022B6D6B6C10>.\n",
      "Valores resultado: [0.54, -0.416, -0.99, -0.654, 0.284, 0.96, 0.754, -0.146, -0.911, -0.839]\n"
     ]
    }
   ],
   "source": [
    "import math as m\n",
    "\n",
    "def seno(alpha):\n",
    "    return m.sinus(alpha)\n",
    "\n",
    "def coseno(alpha):\n",
    "    return m.cos(alpha)\n",
    "\n",
    "def tangente(alpha):\n",
    "    return m.tan(alpha)\n",
    "\n",
    "def exponencial(alpha):\n",
    "    return m.exp(alpha)\n",
    "\n",
    "def log_neperiano(alpha):\n",
    "    return m.log(alpha)\n",
    "\n",
    "def calculadora(valor, funcion):\n",
    "    lista = [i+1 for i in range (valor)]\n",
    "    \n",
    "    resultado = [round(funcion(lista[i]), 3) for i in range(valor)]\n",
    "    \n",
    "    print('valores enteros hasta {}: {}'.format(valor, lista))\n",
    "    print('función aplicada {}.\\nValores resultado: {}'.format(funcion, resultado))\n",
    "    return\n",
    "\n",
    "calculadora(10, coseno)"
   ]
  },
  {
   "cell_type": "markdown",
   "metadata": {},
   "source": [
    "### Ejercicio 3\n",
    "Escribir una función que reciba otra función y una lista, y devuelva otra lista con el resultado de aplicar la función dada a cada uno de los elementos de la lista."
   ]
  },
  {
   "cell_type": "code",
   "execution_count": 3,
   "metadata": {},
   "outputs": [],
   "source": [
    "# def funcion(n,lista):\n",
    "#     l = [n(i) for i in lista]\n",
    "#     return l\n",
    "\n",
    "# #generar una lista\n",
    "# lista = [i+1 for i in range(10)]\n",
    "\n",
    "# funcion(n**2, lista)"
   ]
  },
  {
   "cell_type": "markdown",
   "metadata": {},
   "source": [
    "Ejercicio 4\n",
    "Escribir una función que reciba otra función booleana y una lista, y devuelva otra lista con los elementos de la lista que devuelvan True al aplicarles la función booleana."
   ]
  },
  {
   "cell_type": "markdown",
   "metadata": {},
   "source": [
    "### Ejercicio 5\n",
    "Escribir una función que reciba una frase y devuelva un diccionario con las palabras que contiene y su longitud."
   ]
  },
  {
   "cell_type": "code",
   "execution_count": 6,
   "metadata": {},
   "outputs": [
    {
     "data": {
      "text/plain": [
       "{'En': 2,\n",
       " 'un': 2,\n",
       " 'lugar': 5,\n",
       " 'de': 2,\n",
       " 'la': 2,\n",
       " 'Mancha': 6,\n",
       " 'cuyo': 4,\n",
       " 'nombre': 6,\n",
       " 'no': 2,\n",
       " 'quiero': 6,\n",
       " 'acordarme': 9}"
      ]
     },
     "execution_count": 6,
     "metadata": {},
     "output_type": "execute_result"
    }
   ],
   "source": [
    "def palabra_longitud(frase):\n",
    "    palabras = frase.split()\n",
    "    return  {palabra:len(palabra) for palabra in palabras}\n",
    "\n",
    "frase = 'En un lugar de la Mancha de cuyo nombre no quiero acordarme'\n",
    "palabra_longitud(frase)"
   ]
  },
  {
   "cell_type": "markdown",
   "metadata": {},
   "source": [
    "### Ejercicio 6\n",
    "Escribir una función reciba una lista de notas y devuelva la lista de calificaciones correspondientes a esas notas."
   ]
  },
  {
   "cell_type": "code",
   "execution_count": null,
   "metadata": {},
   "outputs": [],
   "source": [
    "def calificaciones(notas):\n",
    "    \n",
    "    calificaciones = []\n",
    "    \n",
    "    for nota in notas:\n",
    "        if nota < 5:\n",
    "            calificaciones.append('{} = suspenso'.format(nota))\n",
    "        if nota == 5:\n",
    "            calificaciones.append('{} = suficiente'.format(nota))\n",
    "        if nota >= 6 and nota <8:\n",
    "            calificaciones.append('{} = bien'.format(nota))\n",
    "        if nota >=8 and nota <=9:\n",
    "            calificaciones.append('{} = notable'.format(nota))\n",
    "        if nota >9:\n",
    "            calificaciones.append('{} = sobresaliente'.format(nota))\n",
    "    \n",
    "    return calificaciones\n",
    "\n",
    "notas = [i+1 for i in range(10)]\n",
    "\n",
    "calificaciones(notas)"
   ]
  },
  {
   "cell_type": "markdown",
   "metadata": {},
   "source": [
    "### Ejercicio 7\n",
    "Escribir una función reciba un diccionario con las asignaturas y las notas de un alumno y devuelva otro diccionario con las asignaturas en mayúsculas y las calificaciones correspondientes a las notas."
   ]
  },
  {
   "cell_type": "code",
   "execution_count": null,
   "metadata": {},
   "outputs": [],
   "source": [
    "def alumno(calificaciones):\n",
    "    '''recibe un diccionario con las asignaturas y las notas el alumno como parámetro\n",
    "    y devuelve las asignaturas en mayúscula y las calificaciones correspondientes a las notas'''\n",
    "        \n",
    "    # recorremos las claves y hacemos mayúscula cada elemento\n",
    "    asignaturas = [clave.upper() for clave in calificaciones.keys()]\n",
    "    \n",
    "    # recorremos los valores y los añadimos a la lista valores\n",
    "    notas = [valor for valor in calificaciones.values()]\n",
    "    \n",
    "    return dict(zip(asignaturas,notas)) \n",
    "    \n",
    "asignaturas = {'matemáticas':8, 'física':5, 'lengua':10, 'artes oscuras':2}\n",
    "\n",
    "alumno(asignaturas)"
   ]
  },
  {
   "cell_type": "markdown",
   "metadata": {},
   "source": [
    "### Ejercicio 8\n",
    "Escribir una función reciba un diccionario con las asignaturas y las notas de un alumno y devuelva otro diccionario con las asignaturas en mayúsculas y las calificaciones correspondientes a las notas aprobadas."
   ]
  },
  {
   "cell_type": "code",
   "execution_count": null,
   "metadata": {},
   "outputs": [],
   "source": [
    "def aprobadas(calificaciones):\n",
    "    '''recibe un diccionario con las asignaturas y las notas de un alumno \n",
    "    y devuelva otro diccionario con las asignaturas en mayúsculas y las calificaciones \n",
    "    correspondientes a las notas aprobadas.'''\n",
    "    \n",
    "    aprobadas = {estudiante(calificaciones) for calificaciones in alumno if alumno[asignatura]>=5}\n",
    "                 \n",
    "    return aprobadas\n",
    "    \n",
    "asignaturas = {'matemáticas':2, 'física':5, 'lengua':1, 'artes oscuras':5}\n",
    "\n",
    "aprobadas(asignaturas)"
   ]
  },
  {
   "cell_type": "markdown",
   "metadata": {},
   "source": [
    "###  Ejercicio 9\n",
    "Escribir una función que calcule el módulo de un vector."
   ]
  },
  {
   "cell_type": "code",
   "execution_count": 30,
   "metadata": {},
   "outputs": [
    {
     "data": {
      "text/plain": [
       "2.449489742783178"
      ]
     },
     "execution_count": 30,
     "metadata": {},
     "output_type": "execute_result"
    }
   ],
   "source": [
    "import math as m\n",
    "\n",
    "def modulo(coordenadas):\n",
    "    '''calcula el módulo del vector'''\n",
    "    suma = 0 \n",
    "    for coordenada in coordenadas:\n",
    "        suma += coordenada**2\n",
    "    return m.sqrt(suma)\n",
    "\n",
    "# probamos\n",
    "modulo([1,1,2])"
   ]
  },
  {
   "cell_type": "markdown",
   "metadata": {},
   "source": [
    "### Ejercicio 10\n",
    "Una inmobiliaria de una ciudad maneja una lista de inmuebles como la siguiente:\n",
    "\n",
    "    [{'año': 2000, 'metros': 100, 'habitaciones': 3, 'garaje': True, 'zona': 'A'},\n",
    "    {'año': 2012, 'metros': 60, 'habitaciones': 2, 'garaje': True, 'zona': 'B'},\n",
    "    {'año': 1980, 'metros': 120, 'habitaciones': 4, 'garaje': False, 'zona': 'A'},\n",
    "    {'año': 2005, 'metros': 75, 'habitaciones': 3, 'garaje': True, 'zona': 'B'},\n",
    "    {'año': 2015, 'metros': 90, 'habitaciones': 2, 'garaje': False, 'zona': 'A'}]\n",
    "\n",
    "Construir una función que permita hacer búsqueda de inmuebles en función de un presupuesto dado. La función recibirá como entrada la lista de inmuebles y un precio, y devolverá otra lista con los inmuebles cuyo precio sea menor o igual que el dado. Los inmuebles de la lista que se devuelva deben incorporar un nuevo par a cada diccionario con el precio del inmueble, donde el precio de un inmueble se calcula con las siguiente fórmula en función de la zona:\n",
    "\n",
    "Zona A: precio = (metros * 1000 + habitaciones * 5000 + garaje * 15000) * (1-antiguedad/100)\n",
    "\n",
    "Zona B: precio = (metros * 1000 + habitaciones * 5000 + garaje * 15000) * (1-antiguedad/100) * 1.5"
   ]
  },
  {
   "cell_type": "code",
   "execution_count": 8,
   "metadata": {},
   "outputs": [],
   "source": [
    "inmuebles = [{'año': 2000, 'metros': 100, 'habitaciones': 3, 'garaje': True, 'zona': 'A'},\n",
    "            {'año': 2012, 'metros': 60, 'habitaciones': 2, 'garaje': True, 'zona': 'B'},\n",
    "            {'año': 1980, 'metros': 120, 'habitaciones': 4, 'garaje': False, 'zona': 'A'},\n",
    "            {'año': 2005, 'metros': 75, 'habitaciones': 3, 'garaje': True, 'zona': 'B'},\n",
    "            {'año': 2015, 'metros': 90, 'habitaciones': 2, 'garaje': False, 'zona': 'A'}]     "
   ]
  },
  {
   "cell_type": "code",
   "execution_count": 28,
   "metadata": {},
   "outputs": [
    {
     "data": {
      "text/plain": [
       "[{'año': 2000,\n",
       "  'metros': 100,\n",
       "  'habitaciones': 3,\n",
       "  'garaje': True,\n",
       "  'zona': 'A',\n",
       "  'precio': 93200.0},\n",
       " {'año': 2012,\n",
       "  'metros': 60,\n",
       "  'habitaciones': 2,\n",
       "  'garaje': True,\n",
       "  'zona': 'B',\n",
       "  'precio': 98670.0},\n",
       " {'año': 1980,\n",
       "  'metros': 120,\n",
       "  'habitaciones': 4,\n",
       "  'garaje': False,\n",
       "  'zona': 'A',\n",
       "  'precio': 84000.0},\n",
       " {'año': 2005,\n",
       "  'metros': 75,\n",
       "  'habitaciones': 3,\n",
       "  'garaje': True,\n",
       "  'zona': 'B',\n",
       "  'precio': 116662.5},\n",
       " {'año': 2015,\n",
       "  'metros': 90,\n",
       "  'habitaciones': 2,\n",
       "  'garaje': False,\n",
       "  'zona': 'A',\n",
       "  'precio': 95000.0}]"
      ]
     },
     "execution_count": 28,
     "metadata": {},
     "output_type": "execute_result"
    }
   ],
   "source": [
    "def buscador(inmuebles, presupuesto):\n",
    "    '''buscador recibe como parámetros una lista de inmuebles y un presupuesto.\n",
    "    Se devuelve una lista de inmuebles cuyo precio es menor o igual al presupuesto'''\n",
    "    \n",
    "    disponible = []   #lista de inmuebles para el comprador\n",
    "    \n",
    "    # recorremos la lista de inmuebles\n",
    "    for inmueble in inmuebles:\n",
    "        \n",
    "        # precio = (metros * 1000 + habitaciones * 5000 + garaje * 15000) * (1-antiguedad/100)\n",
    "        precio = (inmueble['metros']*1000 + inmueble['habitaciones']*5000 + int(inmueble['garaje'])*1500) * (1-(2020-inmueble['año'])/100)\n",
    "    \n",
    "        # si es inmueble de zona B aplicamos el factor\n",
    "        if inmueble['zona'] == 'B':\n",
    "            precio *= 1.5\n",
    "        \n",
    "        inmueble['precio'] = round(precio, 3) #añadimos el par 'precio':precio al diccionario inmueble\n",
    "        \n",
    "        # si el precio es menor o igual al presupuesto lo añadimos a la lista \n",
    "        if precio <= presupuesto:\n",
    "            disponible.append(inmueble)\n",
    "            \n",
    "    return disponible\n",
    "\n",
    "\n",
    "buscador(inmuebles,150000)"
   ]
  },
  {
   "cell_type": "markdown",
   "metadata": {},
   "source": [
    "### Ejercicio 11\n",
    "Escribir una función que reciba una muestra de números y devuelva los valores atípicos, es decir, los valores cuya puntuación típica sea mayor que 3 o menor que -3. Nota: La puntuación típica de un valor se obtiene restando la media y dividiendo por la desviación típica de la muestra."
   ]
  },
  {
   "cell_type": "code",
   "execution_count": 53,
   "metadata": {},
   "outputs": [
    {
     "data": {
      "text/plain": [
       "[1000]"
      ]
     },
     "execution_count": 53,
     "metadata": {},
     "output_type": "execute_result"
    }
   ],
   "source": [
    "from statistics import mean, stdev\n",
    "\n",
    "def atipico(lista):\n",
    "    atipicos = []\n",
    "    \n",
    "    for i in lista:\n",
    "        valor = (i-mean(lista))/stdev(lista)\n",
    "        \n",
    "        if valor<-3 or valor>3:\n",
    "            atipicos.append(i)\n",
    "    \n",
    "    return atipicos\n",
    "        \n",
    "        \n",
    "lista = [1, 2, 3, 4, 5, 6, 7, 8, 9, 10, 1000]\n",
    "\n",
    "atipico(lista)\n"
   ]
  },
  {
   "cell_type": "code",
   "execution_count": 67,
   "metadata": {},
   "outputs": [
    {
     "ename": "IndentationError",
     "evalue": "unindent does not match any outer indentation level (<tokenize>, line 5)",
     "output_type": "error",
     "traceback": [
      "\u001b[1;36m  File \u001b[1;32m\"<tokenize>\"\u001b[1;36m, line \u001b[1;32m5\u001b[0m\n\u001b[1;33m    return valor\u001b[0m\n\u001b[1;37m    ^\u001b[0m\n\u001b[1;31mIndentationError\u001b[0m\u001b[1;31m:\u001b[0m unindent does not match any outer indentation level\n"
     ]
    }
   ],
   "source": [
    "from statistics import mean, stdev\n",
    "\n",
    "def atipico(lista):\n",
    "        valor = (i-mean(lista))/stdev(lista)\n",
    "    return valor\n",
    "\n",
    "def datos_atipicos(lista):\n",
    "    return list(filter(atipico(lista), lista))\n",
    "        \n",
    "        \n",
    "lista = [1, 2, 3, 4, 5, 6, 7, 8, 9, 10, 1000]\n",
    "\n",
    "datos_atipicos(lista)"
   ]
  }
 ],
 "metadata": {
  "kernelspec": {
   "display_name": "Python 3",
   "language": "python",
   "name": "python3"
  },
  "language_info": {
   "codemirror_mode": {
    "name": "ipython",
    "version": 3
   },
   "file_extension": ".py",
   "mimetype": "text/x-python",
   "name": "python",
   "nbconvert_exporter": "python",
   "pygments_lexer": "ipython3",
   "version": "3.8.3"
  }
 },
 "nbformat": 4,
 "nbformat_minor": 4
}
