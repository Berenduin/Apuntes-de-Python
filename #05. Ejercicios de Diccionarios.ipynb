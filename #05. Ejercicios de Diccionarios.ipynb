{
 "cells": [
  {
   "cell_type": "markdown",
   "metadata": {},
   "source": [
    "Ejercicios:https://aprendeconalf.es/docencia/python/ejercicios/diccionarios/\n",
    "\n",
    "Manual: https://aprendeconalf.es/docencia/python/manual/"
   ]
  },
  {
   "cell_type": "markdown",
   "metadata": {},
   "source": [
    "### Ejercicio 1\n",
    "Escribir un programa que guarde en una variable el diccionario {'Euro':'€', 'Dollar':'$', 'Yen':'¥'}, pregunte al usuario por una divisa y muestre su símbolo o un mensaje de aviso si la divisa no está en el diccionario."
   ]
  },
  {
   "cell_type": "code",
   "execution_count": null,
   "metadata": {},
   "outputs": [],
   "source": [
    "divisa = {'Euro':'€', 'Dollar':'$', 'Yen':'¥'}\n",
    "\n",
    "n = input('Introduzca una divisa ')\n",
    "\n",
    "if n in divisa != False:\n",
    "    print('El símbolo de ', n, ' es:', divisa.get(n))\n",
    "else: \n",
    "    print('Divisa no encontrada')"
   ]
  },
  {
   "cell_type": "code",
   "execution_count": null,
   "metadata": {},
   "outputs": [],
   "source": [
    "divisas = {'Euro':'€', 'Dollar':'$', 'Yen':'¥'}\n",
    "divisa = input('Introduzca una divisa: ')\n",
    "\n",
    "print(divisas.get(divisa.title(), 'Divisa no encontrada'))"
   ]
  },
  {
   "cell_type": "markdown",
   "metadata": {},
   "source": [
    "### Ejercicio 2\n",
    "Escribir un programa que pregunte al usuario su nombre, edad, dirección y teléfono y lo guarde en un diccionario. Después debe mostrar por pantalla el mensaje < nombre> tiene < edad> años, vive en <dirección> y su número de teléfono es <teléfono>."
   ]
  },
  {
   "cell_type": "code",
   "execution_count": null,
   "metadata": {},
   "outputs": [],
   "source": [
    "data = {}\n",
    "\n",
    "data['nombre'] = input('Introduzca su nombre: ')\n",
    "data['edad'] = input ('Introduzaca su edad: ')\n",
    "data['dirección'] = input('Introduzca su dirección: ')\n",
    "data['teléfono'] = input('Introduzca su teléfono: ')\n",
    "\n",
    "print('{} tiene {} años, vive en {} y su número de teléfono es {}'.format(data['nombre'], data['edad'], data['dirección'],  data['teléfono']))"
   ]
  },
  {
   "cell_type": "markdown",
   "metadata": {},
   "source": [
    "### Ejercicio 3\n",
    "Escribir un programa que guarde en un diccionario los precios de las frutas de la tabla, pregunte al usuario por una fruta, un número de kilos y muestre por pantalla el precio de ese número de kilos de fruta. Si la fruta no está en el diccionario debe mostrar un mensaje informando de ello.\n",
    "\n",
    "      Fruta     Precio\n",
    "    - Plátano\t1.35\n",
    "    - Manzana\t0.80\n",
    "    - Pera      0.85\n",
    "    - Naranja\t0.70"
   ]
  },
  {
   "cell_type": "code",
   "execution_count": null,
   "metadata": {},
   "outputs": [],
   "source": [
    "frutas = {'plátano':1.35, 'manzana':0.80, 'pera':0.85, 'naranja':0.70}\n",
    "\n",
    "fruta = input('Introduzca una fruta: ')\n",
    "kilos = input('Número de kilos de fruta:')\n",
    "\n",
    "if fruta in frutas:\n",
    "    print (frutas[fruta]*int(kilos), '€ de ', fruta)\n",
    "\n",
    "else:\n",
    "    print ('Fruta no encontrada')"
   ]
  },
  {
   "cell_type": "markdown",
   "metadata": {},
   "source": [
    "### Ejercicio 4\n",
    "Escribir un programa que pregunte una fecha en formato dd/mm/aaaa y muestre por pantalla la misma fecha en formato dd de mes de aaaa, donde mes es el nombre del mes."
   ]
  },
  {
   "cell_type": "code",
   "execution_count": null,
   "metadata": {},
   "outputs": [],
   "source": [
    "month = {'01':'Enero', '02':'Febrero', '03':'Marzo', '04':'Abril', '05':'Mayo', '06':'Junio',\n",
    "         '07':'Julio', '08':'Agosto', '09':'Septiembre', '10':'Octubre', '11':'Noviembre', '12':'Diciembre'}\n",
    "\n",
    "date = input('Introduzca una fecha en formato dd/mm/aaaa: ')\n",
    "\n",
    "datelist = date.split('/')\n",
    "\n",
    "print('{}/{}/{}'.format(datelist[0], month[datelist[1]], datelist[2]))"
   ]
  },
  {
   "cell_type": "markdown",
   "metadata": {},
   "source": [
    "### Ejercicio 5\n",
    "Escribir un programa que almacene el diccionario con los créditos de las asignaturas de un curso {'Matemáticas': 6, 'Física': 4, 'Química': 5} y después muestre por pantalla los créditos de cada asignatura en el formato <asignatura> tiene <créditos> créditos, donde <asignatura> es cada una de las asignaturas del curso, y <créditos> son sus créditos. Al final debe mostrar también el número total de créditos del curso."
   ]
  },
  {
   "cell_type": "code",
   "execution_count": null,
   "metadata": {},
   "outputs": [],
   "source": [
    "subjets = {'Matemáticas': 6, 'Física': 4, 'Química': 5}\n",
    "total = 0\n",
    "\n",
    "for subjet in subjets: \n",
    "    print(subjet, ' tiene ', subjets[subjet], ' créditos')\n",
    "    \n",
    "    total += subjets.get(subjet)\n",
    "    \n",
    "print('Total de créditos: ', total)"
   ]
  },
  {
   "cell_type": "markdown",
   "metadata": {},
   "source": [
    "### Ejercicio 6\n",
    "Escribir un programa que cree un diccionario vacío y lo vaya llenado con información sobre una persona (por ejemplo nombre, edad, sexo, teléfono, correo electrónico, etc.) que se le pida al usuario. Cada vez que se añada un nuevo dato debe imprimirse el contenido del diccionario."
   ]
  },
  {
   "cell_type": "code",
   "execution_count": null,
   "metadata": {},
   "outputs": [],
   "source": [
    "user = {}\n",
    "\n",
    "while(True):\n",
    "    key = input('Qué información desea introducir. Para finalizar esciba salir: ')\n",
    "    \n",
    "    if key == 'salir':\n",
    "        break\n",
    "        \n",
    "    value = input('Datos ')\n",
    "    \n",
    "    user[key] = value\n",
    "    \n",
    "    print(user)"
   ]
  },
  {
   "cell_type": "markdown",
   "metadata": {},
   "source": [
    "### Ejercicio 7\n",
    "Escribir un programa que cree un diccionario simulando una cesta de la compra. El programa debe preguntar el artículo y su precio y añadir el par al diccionario, hasta que el usuario decida terminar. Después se debe mostrar por pantalla la lista de la compra y el coste total, con el siguiente formato\n",
    "\n",
    "    Lista de la compra\t\n",
    "    Artículo 1\tPrecio\n",
    "    Artículo 2\tPrecio\n",
    "    Artículo 3\tPrecio\n",
    "    …\t…\n",
    "    Total\tCoste"
   ]
  },
  {
   "cell_type": "code",
   "execution_count": null,
   "metadata": {},
   "outputs": [],
   "source": [
    "cesta = {}\n",
    "total = 0\n",
    "\n",
    "while(True):\n",
    "    key = input('Introduzca el producto o escriba salir para terminar: ')\n",
    "    \n",
    "    if key == 'salir':\n",
    "        break\n",
    "        \n",
    "    value = input('Precio en €: ')\n",
    "    cesta[key] = value\n",
    "    \n",
    "    total += int(value)\n",
    "   \n",
    "print('Lista de la compra:', cesta)\n",
    "print('Total de la compra: ', total)"
   ]
  },
  {
   "cell_type": "markdown",
   "metadata": {},
   "source": [
    "### Ejercicio 8\n",
    "\n",
    "Escribir un programa que cree un diccionario de traducción español-inglés. El usuario introducirá las palabras en español e inglés separadas por dos puntos, y cada par <español>:<inglés> separados por comas. \n",
    "El programa debe crear un diccionario con las palabras y sus traducciones. Después pedirá una frase en español y utilizará el diccionario para traducirla palabra a palabra. Si una palabra no está en el diccionario debe dejarla sin traducir."
   ]
  },
  {
   "cell_type": "code",
   "execution_count": null,
   "metadata": {},
   "outputs": [],
   "source": [
    "dic = {}\n",
    "pairs = input('Introduzca palabras en español e inglés separadas por dos puntos, y cada par se parado por comas: ')\n",
    "\n",
    "for pair in pairs.split(','):       # separa los pares\n",
    "    key, value = pair.split(':')    # separa el par\n",
    "    dic[key] = value\n",
    "    \n",
    "phrase = input('Introduzca una frase en español a traducir: ')\n",
    "\n",
    "for word in phrase.split():\n",
    "    print(dic.get(word, word), end=' ')"
   ]
  },
  {
   "cell_type": "markdown",
   "metadata": {},
   "source": [
    "## Ejercicio 9\n",
    "Escribir un programa que gestione las facturas pendientes de cobro de una empresa. Las facturas se almacenarán en un diccionario donde la clave de cada factura será el número de factura y el valor el coste de la factura. El programa debe preguntar al usuario si quiere añadir una nueva factura, pagar una existente o terminar. Si desea añadir una nueva factura se preguntará por el número de factura y su coste y se añadirá al diccionario. Si se desea pagar una factura se preguntará por el número de factura y se eliminará del diccionario. Después de cada operación el programa debe mostrar por pantalla la cantidad cobrada hasta el momento y la cantidad pendiente de cobro."
   ]
  },
  {
   "cell_type": "code",
   "execution_count": null,
   "metadata": {},
   "outputs": [],
   "source": [
    "facturas = {'numFactura':'coste', '1':1100,'2':2200, '3':3300}\n",
    "cobrado = 0\n",
    "pendiente = 6600\n",
    "option = ''\n",
    "\n",
    "while option != 'Terminar':\n",
    "\n",
    "    option = input(\"\"\"¿Qué acción desea realizar?:\n",
    "        a. [Añadir] una nueva factura\n",
    "        b. [Pagar] una existente\n",
    "        c. [Terminar]: \n",
    "        \"\"\").title()\n",
    "\n",
    "    if option == 'Añadir':\n",
    "        nFactura = input('Número de factura: ')\n",
    "        coste = float(input('Coste en €: '))\n",
    "\n",
    "        facturas[nFactura] = coste\n",
    "\n",
    "        pendiente += coste\n",
    "\n",
    "    elif option == 'Pagar':\n",
    "        nFactura = input('Número de factura pagada: ')\n",
    "        coste = facturas.pop(nFactura, 'No está')\n",
    "        \n",
    "        cobrado += coste\n",
    "        pendiente -= coste\n",
    "        \n",
    "    print('Total cobrado: ', cobrado, '€')\n",
    "    print('Total pendiente de cobro: ', pendiente,'€')\n",
    "    \n",
    "print('Adios, muchas gracias')"
   ]
  },
  {
   "cell_type": "markdown",
   "metadata": {},
   "source": [
    "### Ejercicio 10\n",
    "Escribir un programa que permita gestionar la base de datos de clientes de una empresa. Los clientes se guardarán en un diccionario en el que la clave de cada cliente será su NIF, y el valor será otro diccionario con los datos del cliente (nombre, dirección, teléfono, correo, preferente), donde preferente tendrá el valor True si se trata de un cliente preferente. El programa debe preguntar al usuario por una opción del siguiente menú: \n",
    "\n",
    "    (1) Añadir cliente, \n",
    "    (2) Eliminar cliente, \n",
    "    (3) Mostrar cliente, \n",
    "    (4) Listar todos los clientes, \n",
    "    (5) Listar clientes preferentes, \n",
    "    (6) Terminar. \n",
    "\n",
    "En función de la opción elegida el programa tendrá que hacer lo siguiente:\n",
    "\n",
    "- Preguntar los datos del cliente, crear un diccionario con los datos y añadirlo a la base de datos.\n",
    "- Preguntar por el NIF del cliente y eliminar sus datos de la base de datos.\n",
    "- Preguntar por el NIF del cliente y mostrar sus datos.\n",
    "- Mostrar lista de todos los clientes de la base datos con su NIF y nombre.\n",
    "- Mostrar la lista de clientes preferentes de la base de datos con su NIF y nombre.\n",
    "- Terminar el programa."
   ]
  },
  {
   "cell_type": "code",
   "execution_count": null,
   "metadata": {},
   "outputs": [
    {
     "name": "stdout",
     "output_type": "stream",
     "text": [
      "Introduzca el número de la opción que desea realizar:\n",
      "    (1) Añadir cliente, \n",
      "    (2) Eliminar cliente, \n",
      "    (3) Mostrar cliente, \n",
      "    (4) Listar todos los clientes, \n",
      "    (5) Listar clientes preferentes, \n",
      "    (6) Terminar.\n",
      "    1\n"
     ]
    }
   ],
   "source": [
    "client = {'NIF':'data', '123456789A':{'Jose', 'Malaga', '654798321', 'jose@correo.com', 'True'}}\n",
    "datos = ('nombre', 'dirección', 'teléfono', 'correo', 'preferente')\n",
    "\n",
    "option =''\n",
    "\n",
    "while option != '6':\n",
    "    \n",
    "    option = input('''Introduzca el número de la opción que desea realizar:\n",
    "    (1) Añadir cliente, \n",
    "    (2) Eliminar cliente, \n",
    "    (3) Mostrar cliente, \n",
    "    (4) Listar todos los clientes, \n",
    "    (5) Listar clientes preferentes, \n",
    "    (6) Terminar.\n",
    "    ''')\n",
    "    \n",
    "    if option == '1':\n",
    "        \n",
    "        data = {}\n",
    "        nif = input('Introduzca NIF del cliente: ')\n",
    "        \n",
    "        for dato in datos: \n",
    "            key = dato\n",
    "            value = input('Introduzca {} del cliente: '.format(dato))\n",
    "            data[key]=value\n",
    "            \n",
    "            if data['preferente'].lower() == 'si':\n",
    "                data['preferente'] = True\n",
    "                \n",
    "        client[nif]=data\n",
    "        \n",
    "    elif option == '2':\n",
    "        \n",
    "        nif = input('Introduzca NIF del cliente a eliminar: ')\n",
    "        \n",
    "        data.pop(nif, 'No existe el cliente')\n",
    "        \n",
    "    elif option == '3':\n",
    "        \n",
    "        nif = input('Introduzca NIF del cliente a eliminar: ')\n",
    "        print(client.get(nif, 'No existe el cliente'))\n",
    "        \n",
    "    elif option == '4':\n",
    "        print('los clientes registrados son:')\n",
    "        lista = client.keys()\n",
    "        print(lista)\n",
    "        \n",
    "    elif option == '5':\n",
    "        print('Desarroyando')\n",
    "    \n",
    "    elif option == '6':\n",
    "        print('Gracias, adios')"
   ]
  }
 ],
 "metadata": {
  "kernelspec": {
   "display_name": "Python 3",
   "language": "python",
   "name": "python3"
  },
  "language_info": {
   "codemirror_mode": {
    "name": "ipython",
    "version": 3
   },
   "file_extension": ".py",
   "mimetype": "text/x-python",
   "name": "python",
   "nbconvert_exporter": "python",
   "pygments_lexer": "ipython3",
   "version": "3.8.3"
  }
 },
 "nbformat": 4,
 "nbformat_minor": 4
}
