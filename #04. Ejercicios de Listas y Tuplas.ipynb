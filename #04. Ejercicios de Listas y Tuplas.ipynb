{
 "cells": [
  {
   "cell_type": "markdown",
   "metadata": {},
   "source": [
    "Lista de Ejercicios: https://aprendeconalf.es/docencia/python/ejercicios/listas-tuplas/\n",
    "\n",
    "Manunal de Python:\n",
    "https://aprendeconalf.es/docencia/python/manual/listas/\n",
    "https://aprendeconalf.es/docencia/python/manual/tuplas/"
   ]
  },
  {
   "cell_type": "markdown",
   "metadata": {},
   "source": [
    "### Ejercicio 1\n",
    "Escribir un programa que almacene las asignaturas de un curso (por ejemplo Matemáticas, Física, Química, Historia y Lengua) en una lista y la muestre por pantalla."
   ]
  },
  {
   "cell_type": "code",
   "execution_count": null,
   "metadata": {},
   "outputs": [],
   "source": [
    "subjets = ['Matemáticas', 'Física', 'Química', 'Historia', 'Lengua']\n",
    "print(subjets)"
   ]
  },
  {
   "cell_type": "markdown",
   "metadata": {},
   "source": [
    "### Ejercicio 2\n",
    "Escribir un programa que almacene las asignaturas de un curso (por ejemplo Matemáticas, Física, Química, Historia y Lengua) en una lista y la muestre por pantalla el mensaje Yo estudio [asignatura], donde [asignatura] es cada una de las asignaturas de la lista."
   ]
  },
  {
   "cell_type": "code",
   "execution_count": null,
   "metadata": {},
   "outputs": [],
   "source": [
    "subjets = ['Matemáticas', 'Física', 'Química', 'Historia', 'Lengua']\n",
    "for subjets in subjets:\n",
    "    print('Yo estudio: ', subjets)"
   ]
  },
  {
   "cell_type": "markdown",
   "metadata": {},
   "source": [
    "### Ejercicio 3\n",
    "Escribir un programa que almacene las asignaturas de un curso (por ejemplo Matemáticas, Física, Química, Historia y Lengua) en una lista, pregunte al usuario la nota que ha sacado en cada asignatura, y después las muestre por pantalla con el mensaje En [asignatura] has sacado [nota] donde [asignatura] es cada una des las asignaturas de la lista y [nota] cada una de las correspondientes notas introducidas por el usuario."
   ]
  },
  {
   "cell_type": "code",
   "execution_count": null,
   "metadata": {},
   "outputs": [],
   "source": [
    "subjets = ['Matemáticas', 'Física', 'Química', 'Historia', 'Lengua']\n",
    "mark = []\n",
    "\n",
    "for subjet in subjets:\n",
    "    data = input('Nota que ha sacado en ' + subjet + ': ')\n",
    "    mark.append(data)\n",
    "\n",
    "for i in range(len(subjets)):\n",
    "    print('En '+ subjets[i] + ' has sacado un ' + mark[i])"
   ]
  },
  {
   "cell_type": "markdown",
   "metadata": {},
   "source": [
    "### Ejercicio 4\n",
    "Escribir un programa que pregunte al usuario los números ganadores de la lotería primitiva, los almacene en una lista y los muestre por pantalla ordenados de menor a mayor."
   ]
  },
  {
   "cell_type": "code",
   "execution_count": null,
   "metadata": {},
   "outputs": [],
   "source": [
    "lotery = []\n",
    "\n",
    "for i in range(6):\n",
    "    lotery.append(input('Introduce el número ganardor: '))\n",
    "    \n",
    "lotery.sort() #éste método ordena la lista\n",
    "\n",
    "print('Los ganadores son: ', lotery)"
   ]
  },
  {
   "cell_type": "code",
   "execution_count": null,
   "metadata": {},
   "outputs": [],
   "source": [
    "lotery = [input ('Introduce ganador:') for i in range(6)]\n",
    "lotery.sort()\n",
    "print('Los ganadores son: ', lotery)"
   ]
  },
  {
   "cell_type": "markdown",
   "metadata": {},
   "source": [
    "### Ejercicio 5\n",
    "Escribir un programa que almacene en una lista los números del 1 al 10 y los muestre por pantalla en orden inverso separados por comas."
   ]
  },
  {
   "cell_type": "code",
   "execution_count": null,
   "metadata": {},
   "outputs": [],
   "source": [
    "num = [1,2,3,4,5,6,7,8,9,10]\n",
    "\n",
    "for n in range(len(num), 1, -1):\n",
    "    print(n, end=\",\")"
   ]
  },
  {
   "cell_type": "code",
   "execution_count": null,
   "metadata": {},
   "outputs": [],
   "source": [
    "num = [n for n in range (1,11)]\n",
    "num.reverse()\n",
    "num"
   ]
  },
  {
   "cell_type": "markdown",
   "metadata": {},
   "source": [
    "### Ejercicio 6\n",
    "Escribir un programa que almacene las asignaturas de un curso (por ejemplo Matemáticas, Física, Química, Historia y Lengua) en una lista, pregunte al usuario la nota que ha sacado en cada asignatura y elimine de la lista las asignaturas aprobadas. Al final el programa debe mostrar por pantalla las asignaturas que el usuario tiene que repetir."
   ]
  },
  {
   "cell_type": "code",
   "execution_count": null,
   "metadata": {},
   "outputs": [],
   "source": [
    "subjets = ['Matemáticas', 'Física', 'Química', 'Historia', 'Lengua']\n",
    "mark = []\n",
    "\n",
    "for subjet in subjets:\n",
    "    data = input('Nota que ha sacado en ' + subjet + ': ')\n",
    "    mark.append(data)\n",
    "\n",
    "for i in range(len(subjets)):\n",
    "    if mark[i]<'5':\n",
    "        print('Debe repetir el examen de: '+ subjets[i])"
   ]
  },
  {
   "cell_type": "code",
   "execution_count": null,
   "metadata": {},
   "outputs": [],
   "source": [
    "subjets = ['Matemáticas', 'Física', 'Química', 'Historia', 'Lengua']\n",
    "failed = []\n",
    "\n",
    "for subjet in subjets:\n",
    "    mark = input('Nota que ha sacado en ' + subjet + ': ')\n",
    "    if mark<'5':\n",
    "        failed.append(subjet)\n",
    "\n",
    "print('Debe repetir el examen de: ', failed)"
   ]
  },
  {
   "cell_type": "markdown",
   "metadata": {},
   "source": [
    "### Ejercicio 7\n",
    "Escribir un programa que almacene el abecedario en una lista, elimine de la lista las letras que ocupen posiciones múltiplos de 3, y muestre por pantalla la lista resultante."
   ]
  },
  {
   "cell_type": "code",
   "execution_count": null,
   "metadata": {},
   "outputs": [],
   "source": [
    "abc = ['a','b','c','d','e','f','g','h','i','j',\n",
    "       'k','l','m','n','ñ','o','p','q','r','s',\n",
    "       't','u','v','w','x','y','z']\n",
    "\n",
    "for i in range(len(abc), 1, -1): #recorre el abecedario en senido opuesto\n",
    "    if i%3 == 0:\n",
    "        abc.pop(i-1)             #devuelve el dato de la posición indicada, lo elimina y pasa el resto de elementos detrás\n",
    "    \n",
    "print(abc)"
   ]
  },
  {
   "cell_type": "code",
   "execution_count": null,
   "metadata": {},
   "outputs": [],
   "source": [
    "abc = ['a','b','c','d','e','f','g','h','i','j',\n",
    "       'k','l','m','n','ñ','o','p','q','r','s',\n",
    "       't','u','v','w','x','y','z']\n",
    "\n",
    "abc = [abc[i-1] for i in range(1,len(abc)) if i%3 != 0]\n",
    "\n",
    "print(','.join(abc))"
   ]
  },
  {
   "cell_type": "markdown",
   "metadata": {},
   "source": [
    "### Ejercicio 8\n",
    "Escribir un programa que pida al usuario una palabra y muestre por pantalla si es un palíndromo."
   ]
  },
  {
   "cell_type": "code",
   "execution_count": null,
   "metadata": {},
   "outputs": [],
   "source": [
    "word = input('Introduzca una palabra')\n",
    "positivo = []\n",
    "negativo = []\n",
    "\n",
    "for w in word:\n",
    "    positivo.append(w)\n",
    "    \n",
    "for i in range(len(word), 0, -1):\n",
    "    negativo.append(word[i-1])\n",
    "\n",
    "if positivo == negativo:\n",
    "    print('Palindromo')\n",
    "else:\n",
    "    print('no')"
   ]
  },
  {
   "cell_type": "code",
   "execution_count": null,
   "metadata": {},
   "outputs": [],
   "source": [
    "word = input('Introduzca una palabra: ')\n",
    "\n",
    "positivo = [w for w in word]\n",
    "\n",
    "negativo = [w for w in word[::-1]]\n",
    "    \n",
    "if positivo == negativo:\n",
    "    print('Palindromo')\n",
    "else:\n",
    "    print('no')"
   ]
  },
  {
   "cell_type": "markdown",
   "metadata": {},
   "source": [
    "### Ejercicio 9\n",
    "Escribir un programa que pida al usuario una palabra y muestre por pantalla el número de veces que contiene cada vocal."
   ]
  },
  {
   "cell_type": "code",
   "execution_count": null,
   "metadata": {},
   "outputs": [],
   "source": [
    "word = input('Introduzca una palabra')\n",
    "\n",
    "vocals = ['a', 'e', 'i', 'o', 'u']\n",
    "\n",
    "for vocal in vocals: \n",
    "    n = 0\n",
    "    for letter in word:\n",
    "        if letter == vocal:\n",
    "            n +=1\n",
    "    print('La vocal', vocal, 'aparece', n, 'veces')"
   ]
  },
  {
   "cell_type": "markdown",
   "metadata": {},
   "source": [
    "### Ejercicio 10\n",
    "Escribir un programa que almacene en una lista los siguientes precios, 50, 75, 46, 22, 80, 65, 8, y muestre por pantalla el menor y el mayor de los precios."
   ]
  },
  {
   "cell_type": "code",
   "execution_count": null,
   "metadata": {},
   "outputs": [],
   "source": [
    "precios = [50, 75, 46, 22, 80, 65, 8]\n",
    "\n",
    "\n",
    "max = [precios[precio] for precio in precios[::1]] # if precios[precio-1]>precios[precio]]\n",
    "max"
   ]
  },
  {
   "cell_type": "code",
   "execution_count": null,
   "metadata": {},
   "outputs": [],
   "source": [
    "precios = [50, 75, 46, 22, 80, 65, 8]\n",
    "\n",
    "print(max(precios), min(precios))"
   ]
  },
  {
   "cell_type": "markdown",
   "metadata": {},
   "source": [
    "### Ejercicio 11\n",
    "Escribir un programa que almacene los vectores (1,2,3) y (-1,0,2) en dos listas y muestre por pantalla su producto escalar."
   ]
  },
  {
   "cell_type": "code",
   "execution_count": null,
   "metadata": {},
   "outputs": [],
   "source": [
    "A = [1,2,3]\n",
    "B = [-1, 0,2]\n",
    "C = 0\n",
    "\n",
    "for i in range(len(A)):\n",
    "    C += A[i]*B[i]\n",
    "\n",
    "print(C)"
   ]
  },
  {
   "cell_type": "markdown",
   "metadata": {},
   "source": [
    "### Ejercicio 12\n",
    "Escribir un programa que almacene las matrices\n",
    "A = (1 2 3 4 5 6)\n",
    "B = (-1 0 1 1 0 1)\n",
    "en una lista y muestre por pantalla su producto.\n",
    "Nota: Para representar matrices mediante listas usar listas anidadas, representando cada vector fila en una lista."
   ]
  },
  {
   "cell_type": "code",
   "execution_count": 6,
   "metadata": {},
   "outputs": [
    {
     "ename": "TypeError",
     "evalue": "'int' object is not subscriptable",
     "output_type": "error",
     "traceback": [
      "\u001b[1;31m---------------------------------------------------------------------------\u001b[0m",
      "\u001b[1;31mTypeError\u001b[0m                                 Traceback (most recent call last)",
      "\u001b[1;32m<ipython-input-6-2be91334bf7f>\u001b[0m in \u001b[0;36m<module>\u001b[1;34m\u001b[0m\n\u001b[0;32m      5\u001b[0m \u001b[1;32mfor\u001b[0m \u001b[0mi\u001b[0m \u001b[1;32min\u001b[0m \u001b[0mrange\u001b[0m\u001b[1;33m(\u001b[0m\u001b[0mlen\u001b[0m\u001b[1;33m(\u001b[0m\u001b[0mA\u001b[0m\u001b[1;33m)\u001b[0m\u001b[1;33m)\u001b[0m\u001b[1;33m:\u001b[0m\u001b[1;33m\u001b[0m\u001b[1;33m\u001b[0m\u001b[0m\n\u001b[0;32m      6\u001b[0m     \u001b[1;32mfor\u001b[0m \u001b[0mj\u001b[0m \u001b[1;32min\u001b[0m \u001b[0mrange\u001b[0m\u001b[1;33m(\u001b[0m\u001b[0mlen\u001b[0m\u001b[1;33m(\u001b[0m\u001b[0mB\u001b[0m\u001b[1;33m)\u001b[0m\u001b[1;33m)\u001b[0m\u001b[1;33m:\u001b[0m\u001b[1;33m\u001b[0m\u001b[1;33m\u001b[0m\u001b[0m\n\u001b[1;32m----> 7\u001b[1;33m         \u001b[0mC\u001b[0m \u001b[1;33m=\u001b[0m \u001b[0mA\u001b[0m\u001b[1;33m[\u001b[0m\u001b[0mi\u001b[0m\u001b[1;33m]\u001b[0m\u001b[1;33m[\u001b[0m\u001b[0mj\u001b[0m\u001b[1;33m]\u001b[0m\u001b[1;33m*\u001b[0m\u001b[0mB\u001b[0m\u001b[1;33m[\u001b[0m\u001b[0mj\u001b[0m\u001b[1;33m]\u001b[0m\u001b[1;33m\u001b[0m\u001b[1;33m\u001b[0m\u001b[0m\n\u001b[0m\u001b[0;32m      8\u001b[0m \u001b[1;33m\u001b[0m\u001b[0m\n\u001b[0;32m      9\u001b[0m \u001b[1;31m# C = [[A[i][j]*B[i][j] for j in range(len(B))] for i in range(len(A))]\u001b[0m\u001b[1;33m\u001b[0m\u001b[1;33m\u001b[0m\u001b[1;33m\u001b[0m\u001b[0m\n",
      "\u001b[1;31mTypeError\u001b[0m: 'int' object is not subscriptable"
     ]
    }
   ],
   "source": [
    "A = [1,2,3]#,4,5,6]\n",
    "B = [-1,0,0]#,1,1,1]\n",
    "C = []\n",
    "\n",
    "for i in range(len(A)):\n",
    "    for j in range(len(B)):\n",
    "        C = A[i][j]*B[j]\n",
    "\n",
    "# C = [[A[i][j]*B[i][j] for j in range(len(B))] for i in range(len(A))]\n",
    "\n",
    "print(C)"
   ]
  },
  {
   "cell_type": "code",
   "execution_count": null,
   "metadata": {},
   "outputs": [],
   "source": [
    "A = [1,2,3,4,5,6]\n",
    "B = [-1,0,0,1,1,1]\n",
    "C = []\n",
    "\n",
    "for i in range(len(A)):\n",
    "    for j in range(len(B)):\n",
    "        C[i] = A[i][j]*B[i][j]"
   ]
  },
  {
   "cell_type": "markdown",
   "metadata": {},
   "source": [
    "### Ejercicio 13\n",
    "Escribir un programa que pregunte por una muestra de números, separados por comas, los guarde en una lista y muestre por pantalla su media y desviación típica."
   ]
  },
  {
   "cell_type": "code",
   "execution_count": null,
   "metadata": {},
   "outputs": [],
   "source": [
    "import math #esto es necesario para el uso de la raíz cuadrada\n",
    "\n",
    "numbers = input('Introduzca una lista de números, separados por comas')\n",
    "lista = numbers.split(',')\n",
    "lista = [int(lista[i]) for i in range (len(lista))] #transforma los valores de la lista de str a int\n",
    "print(lista)        \n",
    "\n",
    "# Cálculo de la media\n",
    "suma = 0\n",
    "for i in lista:\n",
    "    suma += lista[i-1] \n",
    "media = suma / len(lista)\n",
    "\n",
    "\n",
    "# Desviación típica\n",
    "suma = 0\n",
    "for i in lista: \n",
    "    suma += (lista[i-1] - media)**2\n",
    "desviación = math.sqrt(suma / len(lista)) \n",
    "\n",
    "print ('valor medio: ', media)\n",
    "print ('desviación típica', desviación)"
   ]
  }
 ],
 "metadata": {
  "kernelspec": {
   "display_name": "Python 3",
   "language": "python",
   "name": "python3"
  },
  "language_info": {
   "codemirror_mode": {
    "name": "ipython",
    "version": 3
   },
   "file_extension": ".py",
   "mimetype": "text/x-python",
   "name": "python",
   "nbconvert_exporter": "python",
   "pygments_lexer": "ipython3",
   "version": "3.8.3"
  }
 },
 "nbformat": 4,
 "nbformat_minor": 4
}
