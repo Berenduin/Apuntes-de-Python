{
 "cells": [
  {
   "cell_type": "markdown",
   "metadata": {},
   "source": [
    "Ejercicios: https://aprendeconalf.es/es/docencia/python/ejercicios/funciones/\n",
    "\n",
    "Documentación: https://aprendeconalf.es/es/docencia/python/manual/funciones/"
   ]
  },
  {
   "cell_type": "markdown",
   "metadata": {},
   "source": [
    "### Ejercicio 1\n",
    "Escribir una función que muestre por pantalla el saludo ¡Hola amiga! cada vez que se la invoque."
   ]
  },
  {
   "cell_type": "code",
   "execution_count": 5,
   "metadata": {},
   "outputs": [
    {
     "name": "stdout",
     "output_type": "stream",
     "text": [
      "¡Hola amiga!\n"
     ]
    }
   ],
   "source": [
    "def saludo():\n",
    "    print('¡Hola amiga!')\n",
    "    return\n",
    "saludo()"
   ]
  },
  {
   "cell_type": "markdown",
   "metadata": {},
   "source": [
    "### Ejercicio 2\n",
    "Escribir una función a la que se le pase una cadena \"nombre\" y muestre por pantalla el saludo ¡hola \"nombre\"!."
   ]
  },
  {
   "cell_type": "code",
   "execution_count": 8,
   "metadata": {},
   "outputs": [
    {
     "name": "stdout",
     "output_type": "stream",
     "text": [
      "¡Hola Jose!\n"
     ]
    }
   ],
   "source": [
    "def saludo(nombre):\n",
    "    print('¡Hola {}!'.format(nombre))\n",
    "    return\n",
    "\n",
    "saludo('Jose')"
   ]
  },
  {
   "cell_type": "markdown",
   "metadata": {},
   "source": [
    "### Ejercicio 3\n",
    "Escribir una función que reciba un número entero positivo y devuelva su factorial."
   ]
  },
  {
   "cell_type": "code",
   "execution_count": 21,
   "metadata": {},
   "outputs": [
    {
     "data": {
      "text/plain": [
       "720"
      ]
     },
     "execution_count": 21,
     "metadata": {},
     "output_type": "execute_result"
    }
   ],
   "source": [
    "def factorial(n):\n",
    "    if n == 0:\n",
    "        return 1\n",
    "    else:\n",
    "        return n * factorial(n-1)\n",
    "    \n",
    "factorial(6)"
   ]
  },
  {
   "cell_type": "markdown",
   "metadata": {},
   "source": [
    "### Ejercicio 4\n",
    "Escribir una función que calcule el total de una factura tras aplicarle el IVA. La función debe recibir la cantidad sin IVA y el porcentaje de IVA a aplicar, y devolver el total de la factura. Si se invoca la función sin pasarle el porcentaje de IVA, deberá aplicar un 21%."
   ]
  },
  {
   "cell_type": "code",
   "execution_count": 37,
   "metadata": {},
   "outputs": [
    {
     "data": {
      "text/plain": [
       "145.2"
      ]
     },
     "execution_count": 37,
     "metadata": {},
     "output_type": "execute_result"
    }
   ],
   "source": [
    "def masIVA(precio, IVA=21):\n",
    "    total = precio + precio*IVA/100\n",
    "    \n",
    "    return total\n",
    "\n",
    "masIVA(120, 10)\n",
    "masIVA(120)"
   ]
  },
  {
   "cell_type": "markdown",
   "metadata": {},
   "source": [
    "### Ejercicio 5\n",
    "Escribir una función que calcule el área de un círculo y otra que calcule el volumen de un cilindro usando la primera función."
   ]
  },
  {
   "cell_type": "code",
   "execution_count": 1,
   "metadata": {},
   "outputs": [
    {
     "data": {
      "text/plain": [
       "15700.0"
      ]
     },
     "execution_count": 1,
     "metadata": {},
     "output_type": "execute_result"
    }
   ],
   "source": [
    "def areaCirculo(r):\n",
    "    A = 3.14 * r**2\n",
    "    \n",
    "    return A\n",
    "\n",
    "def volumenCilindro(r,h):\n",
    "    V = areaCirculo(r)*h\n",
    "    return V\n",
    "\n",
    "volumenCilindro(10,50)"
   ]
  },
  {
   "cell_type": "markdown",
   "metadata": {},
   "source": [
    "### Ejercicio 6\n",
    "Escribir una función que reciba una muestra de números en una lista y devuelva su media."
   ]
  },
  {
   "cell_type": "code",
   "execution_count": 27,
   "metadata": {},
   "outputs": [
    {
     "data": {
      "text/plain": [
       "5.0"
      ]
     },
     "execution_count": 27,
     "metadata": {},
     "output_type": "execute_result"
    }
   ],
   "source": [
    "def media(*nums):\n",
    "    suma = 0\n",
    "    for n in nums:\n",
    "        suma += n\n",
    "    return suma/n\n",
    "\n",
    "media(1,2,3,4,5,6,7,8,9)"
   ]
  },
  {
   "cell_type": "markdown",
   "metadata": {},
   "source": [
    "### Ejercicio 7\n",
    "Escribir una función que reciba una muestra de números en una lista y devuelva otra lista con sus cuadrados."
   ]
  },
  {
   "cell_type": "code",
   "execution_count": 37,
   "metadata": {},
   "outputs": [
    {
     "data": {
      "text/plain": [
       "[1, 4, 9, 16, 25, 36, 49, 64, 81, 100]"
      ]
     },
     "execution_count": 37,
     "metadata": {},
     "output_type": "execute_result"
    }
   ],
   "source": [
    "def cuadrados(lista):\n",
    "    return [lista[i]**2 for i in range(len(lista))]\n",
    "\n",
    "lista1 = [i for i in range(1,11)]\n",
    "cuadrados(lista1)"
   ]
  },
  {
   "cell_type": "markdown",
   "metadata": {},
   "source": [
    "### Ejercicio 8\n",
    "Escribir una función que reciba una muestra de números en una lista y devuelva un diccionario con su media, varianza y desviación típica."
   ]
  },
  {
   "cell_type": "code",
   "execution_count": 6,
   "metadata": {},
   "outputs": [
    {
     "data": {
      "text/plain": [
       "{'media': 5.0,\n",
       " 'varianza': 6.666666666666667,\n",
       " 'desviacion Tipica': 2.581988897471611}"
      ]
     },
     "execution_count": 6,
     "metadata": {},
     "output_type": "execute_result"
    }
   ],
   "source": [
    "import math\n",
    "\n",
    "def estadistica(lista):\n",
    "    dic = {}\n",
    "    \n",
    "    suma = 0\n",
    "    for n in lista:\n",
    "        suma += n\n",
    "    dic['media'] = suma/len(lista)\n",
    "    \n",
    "    suma = 0\n",
    "    for n in lista:\n",
    "        suma += (n-dic['media'])**2\n",
    "    dic['varianza'] = suma/len(lista)\n",
    "    \n",
    "    dic['desviacion Tipica'] = math.sqrt(dic['varianza'])\n",
    "    \n",
    "    return dic\n",
    "\n",
    "lista1 = [1,2,3,4,5,6,7,8,9]\n",
    "\n",
    "estadistica(lista1)"
   ]
  },
  {
   "cell_type": "markdown",
   "metadata": {},
   "source": [
    "### Ejercicio 9\n",
    "Escribir una función que calcule el máximo común divisor de dos números y otra que calcule el mínimo común múltiplo."
   ]
  },
  {
   "cell_type": "code",
   "execution_count": 7,
   "metadata": {},
   "outputs": [
    {
     "name": "stdout",
     "output_type": "stream",
     "text": [
      "[2, 3, 4, 6]\n"
     ]
    }
   ],
   "source": [
    "def MCD(a):\n",
    "    facta = []\n",
    "    cociente = a\n",
    "    for factor in range(2,a):\n",
    "        if cociente%factor == 0:\n",
    "            facta.append(factor)\n",
    "    print(facta)\n",
    "# def mcm(a,b):\n",
    "    return\n",
    "MCD(12)"
   ]
  },
  {
   "cell_type": "markdown",
   "metadata": {},
   "source": [
    "### Ejercicio 10\n",
    "Escribir una función que convierta un número decimal en binario y otra que convierta un número binario en decimal."
   ]
  },
  {
   "cell_type": "code",
   "execution_count": 89,
   "metadata": {},
   "outputs": [
    {
     "name": "stdout",
     "output_type": "stream",
     "text": [
      "El número decimal introducido es en binario: 100100000\n"
     ]
    },
    {
     "ename": "NameError",
     "evalue": "name 'i' is not defined",
     "output_type": "error",
     "traceback": [
      "\u001b[1;31m---------------------------------------------------------------------------\u001b[0m",
      "\u001b[1;31mNameError\u001b[0m                                 Traceback (most recent call last)",
      "\u001b[1;32m<ipython-input-89-0c5607035363>\u001b[0m in \u001b[0;36m<module>\u001b[1;34m\u001b[0m\n\u001b[0;32m     13\u001b[0m \u001b[1;33m\u001b[0m\u001b[0m\n\u001b[0;32m     14\u001b[0m \u001b[0mdecimalBinario\u001b[0m\u001b[1;33m(\u001b[0m\u001b[1;36m288\u001b[0m\u001b[1;33m)\u001b[0m\u001b[1;33m\u001b[0m\u001b[1;33m\u001b[0m\u001b[0m\n\u001b[1;32m---> 15\u001b[1;33m \u001b[0mbinarioDecimal\u001b[0m\u001b[1;33m(\u001b[0m\u001b[1;36m100100000\u001b[0m\u001b[1;33m)\u001b[0m\u001b[1;33m\u001b[0m\u001b[1;33m\u001b[0m\u001b[0m\n\u001b[0m",
      "\u001b[1;32m<ipython-input-89-0c5607035363>\u001b[0m in \u001b[0;36mbinarioDecimal\u001b[1;34m(n)\u001b[0m\n\u001b[0;32m     10\u001b[0m \u001b[1;32mdef\u001b[0m \u001b[0mbinarioDecimal\u001b[0m\u001b[1;33m(\u001b[0m\u001b[0mn\u001b[0m\u001b[1;33m)\u001b[0m\u001b[1;33m:\u001b[0m\u001b[1;33m\u001b[0m\u001b[1;33m\u001b[0m\u001b[0m\n\u001b[0;32m     11\u001b[0m \u001b[1;33m\u001b[0m\u001b[0m\n\u001b[1;32m---> 12\u001b[1;33m     \u001b[0mbinario\u001b[0m \u001b[1;33m=\u001b[0m \u001b[1;33m[\u001b[0m\u001b[0mn\u001b[0m\u001b[1;33m-\u001b[0m\u001b[0mi\u001b[0m \u001b[1;32mfor\u001b[0m \u001b[0mi\u001b[0m \u001b[1;32min\u001b[0m \u001b[0mrange\u001b[0m\u001b[1;33m(\u001b[0m\u001b[1;36m1\u001b[0m\u001b[1;33m,\u001b[0m\u001b[0mn\u001b[0m\u001b[1;33m,\u001b[0m\u001b[1;36m10\u001b[0m\u001b[1;33m**\u001b[0m\u001b[0mi\u001b[0m\u001b[1;33m)\u001b[0m\u001b[1;33m]\u001b[0m\u001b[1;33m\u001b[0m\u001b[1;33m\u001b[0m\u001b[0m\n\u001b[0m\u001b[0;32m     13\u001b[0m \u001b[1;33m\u001b[0m\u001b[0m\n\u001b[0;32m     14\u001b[0m \u001b[0mdecimalBinario\u001b[0m\u001b[1;33m(\u001b[0m\u001b[1;36m288\u001b[0m\u001b[1;33m)\u001b[0m\u001b[1;33m\u001b[0m\u001b[1;33m\u001b[0m\u001b[0m\n",
      "\u001b[1;31mNameError\u001b[0m: name 'i' is not defined"
     ]
    }
   ],
   "source": [
    "# def decimalBinario(n):\n",
    "#     binarios = []\n",
    "    \n",
    "#     while(n>=1):\n",
    "#         binarios.append(str(n%2))\n",
    "#         n = n//2\n",
    "#     binarios.reverse()\n",
    "#     return print('El número decimal introducido es en binario:', ''.join(binarios))\n",
    "\n",
    "def binarioDecimal(n):\n",
    "    \n",
    "    binario = [n-i for i in range(1,n,10**i)]\n",
    "\n",
    "# decimalBinario(288)\n",
    "binarioDecimal(100100000)"
   ]
  },
  {
   "cell_type": "markdown",
   "metadata": {},
   "source": [
    "### Ejercicio 11\n",
    "Escribir un programa que reciba una cadena de caracteres y devuelva un diccionario con cada palabra que contiene y su frecuencia. Escribir otra función que reciba el diccionario generado con la función anterior y devuelva una tupla con la palabra más repetida y su frecuencia."
   ]
  },
  {
   "cell_type": "code",
   "execution_count": 86,
   "metadata": {},
   "outputs": [
    {
     "name": "stdout",
     "output_type": "stream",
     "text": [
      "{'¿': 2, 'qué': 2, 'es': 2, 'poesía': 3, '?': 2, ',': 2, 'dices': 1, 'mientras': 1, 'clavas': 1, 'en': 1, 'mi': 1, 'pupila': 2, 'tu': 1, 'azul': 1, '.': 1, '¡': 1, '!': 1, 'y': 1, 'tú': 1, 'me': 1, 'lo': 1, 'preguntas': 1, '...': 1, 'eres': 1, 'tú.': 1}\n"
     ]
    }
   ],
   "source": [
    "def frecuencias (texto):\n",
    "    dicFrec = {}\n",
    "    \n",
    "    for palabra in texto.lower().split():\n",
    "        if palabra in dicFrec:\n",
    "            dicFrec[palabra] += 1\n",
    "        else:\n",
    "            dicFrec[palabra] = 1\n",
    "    print (dicFrec)\n",
    "    return\n",
    "    \n",
    "poema = '¿ Qué es poesía ? , dices mientras clavas en mi pupila tu pupila azul . ¡ Qué es poesía ! , ¿ Y tú me lo preguntas ? Poesía ... eres tú.'\n",
    "\n",
    "frecuencias(poema)"
   ]
  }
 ],
 "metadata": {
  "kernelspec": {
   "display_name": "Python 3",
   "language": "python",
   "name": "python3"
  },
  "language_info": {
   "codemirror_mode": {
    "name": "ipython",
    "version": 3
   },
   "file_extension": ".py",
   "mimetype": "text/x-python",
   "name": "python",
   "nbconvert_exporter": "python",
   "pygments_lexer": "ipython3",
   "version": "3.8.3"
  }
 },
 "nbformat": 4,
 "nbformat_minor": 4
}
